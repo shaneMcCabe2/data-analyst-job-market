{
 "cells": [
  {
   "cell_type": "markdown",
   "metadata": {},
   "source": [
    "# Data Analyst Job Market: Geographic Salary Analysis\n",
    "\n",
    "This notebook analyzes salary distributions across US regions and states using interactive visualizations.\n",
    "\n",
    "## Setup and Imports"
   ]
  },
  {
   "cell_type": "code",
   "execution_count": null,
   "metadata": {},
   "source": [
    "# Data manipulation\n",
    "import pandas as pd\n",
    "import numpy as np\n",
    "\n",
    "# Visualization\n",
    "import plotly.express as px\n",
    "import plotly.graph_objects as go\n",
    "import matplotlib.pyplot as plt\n",
    "import seaborn as sns\n",
    "\n",
    "# Set style\n",
    "sns.set_style('whitegrid')\n",
    "plt.rcParams['figure.figsize'] = (12, 6)\n",
    "\n",
    "# Display settings\n",
    "pd.set_option('display.max_columns', None)\n",
    "pd.set_option('display.precision', 2)"
   ]
  },
  {
   "cell_type": "markdown",
   "metadata": {},
   "source": [
    "## 1. Load and Prepare Data\n",
    "\n",
    "**Note:** Adjust the file path to match your data location"
   ]
  },
  {
   "cell_type": "code",
   "execution_count": null,
   "metadata": {},
   "source": [
    "# Load your job data\n",
    "# df = pd.read_csv('path/to/your/job_data.csv')\n",
    "\n",
    "# For demonstration, create sample data structure\n",
    "# Replace this with your actual data loading\n",
    "\n",
    "# Expected columns:\n",
    "# - job_title\n",
    "# - location (city, state format or state abbreviation)\n",
    "# - salary_min\n",
    "# - salary_max\n",
    "# - salary_avg (or calculate as (min + max) / 2)\n",
    "# - experience_level\n",
    "# - remote_type (remote/hybrid/onsite)\n",
    "\n",
    "# Display first few rows\n",
    "# df.head()"
   ]
  },
  {
   "cell_type": "markdown",
   "metadata": {},
   "source": [
    "## 2. Data Cleaning and Feature Engineering"
   ]
  },
  {
   "cell_type": "code",
   "execution_count": null,
   "metadata": {},
   "source": [
    "# Example data cleaning steps - adjust based on your data\n",
    "\n",
    "def clean_salary_data(df):\n",
    "    \"\"\"\n",
    "    Clean and standardize salary data\n",
    "    \"\"\"\n",
    "    # Calculate average salary if not present\n",
    "    if 'salary_avg' not in df.columns and 'salary_min' in df.columns and 'salary_max' in df.columns:\n",
    "        df['salary_avg'] = (df['salary_min'] + df['salary_max']) / 2\n",
    "    \n",
    "    # Remove outliers (optional - salaries outside reasonable range)\n",
    "    df = df[(df['salary_avg'] >= 40000) & (df['salary_avg'] <= 200000)].copy()\n",
    "    \n",
    "    # Extract state from location if needed\n",
    "    if 'state' not in df.columns and 'location' in df.columns:\n",
    "        # Assuming format like \"City, ST\" or just \"ST\"\n",
    "        df['state'] = df['location'].str.extract(r'([A-Z]{2})$')[0]\n",
    "    \n",
    "    return df\n",
    "\n",
    "# Apply cleaning\n",
    "# df = clean_salary_data(df)\n",
    "\n",
    "# Check data types and missing values\n",
    "# df.info()\n",
    "# df.describe()"
   ]
  },
  {
   "cell_type": "markdown",
   "metadata": {},
   "source": [
    "## 3. Define US Regions\n",
    "\n",
    "Group states into standard Census regions for analysis"
   ]
  },
  {
   "cell_type": "code",
   "execution_count": null,
   "metadata": {},
   "source": [
    "# US Census Bureau regional definitions\n",
    "US_REGIONS = {\n",
    "    'Northeast': ['CT', 'ME', 'MA', 'NH', 'RI', 'VT', 'NJ', 'NY', 'PA'],\n",
    "    'Midwest': ['IL', 'IN', 'MI', 'OH', 'WI', 'IA', 'KS', 'MN', 'MO', 'NE', 'ND', 'SD'],\n",
    "    'South': ['DE', 'FL', 'GA', 'MD', 'NC', 'SC', 'VA', 'WV', 'AL', 'KY', 'MS', 'TN', \n",
    "              'AR', 'LA', 'OK', 'TX'],\n",
    "    'West': ['AZ', 'CO', 'ID', 'MT', 'NV', 'NM', 'UT', 'WY', 'AK', 'CA', 'HI', 'OR', 'WA']\n",
    "}\n",
    "\n",
    "# Create reverse mapping (state -> region)\n",
    "STATE_TO_REGION = {}\n",
    "for region, states in US_REGIONS.items():\n",
    "    for state in states:\n",
    "        STATE_TO_REGION[state] = region\n",
    "\n",
    "# Add region column to dataframe\n",
    "def add_region(df):\n",
    "    df['region'] = df['state'].map(STATE_TO_REGION)\n",
    "    return df\n",
    "\n",
    "# df = add_region(df)"
   ]
  },
  {
   "cell_type": "markdown",
   "metadata": {},
   "source": [
    "## 4. Calculate Regional Statistics"
   ]
  },
  {
   "cell_type": "code",
   "execution_count": null,
   "metadata": {},
   "source": [
    "# Aggregate by region\n",
    "def calculate_regional_stats(df):\n",
    "    regional_stats = df.groupby('region').agg({\n",
    "        'salary_avg': ['mean', 'median', 'std', 'min', 'max'],\n",
    "        'job_title': 'count'\n",
    "    }).round(0)\n",
    "    \n",
    "    regional_stats.columns = ['mean_salary', 'median_salary', 'std_salary', \n",
    "                              'min_salary', 'max_salary', 'job_count']\n",
    "    regional_stats = regional_stats.reset_index()\n",
    "    \n",
    "    return regional_stats\n",
    "\n",
    "# Calculate state-level statistics\n",
    "def calculate_state_stats(df):\n",
    "    state_stats = df.groupby('state').agg({\n",
    "        'salary_avg': ['mean', 'median', 'count'],\n",
    "        'region': 'first'\n",
    "    }).round(0)\n",
    "    \n",
    "    state_stats.columns = ['mean_salary', 'median_salary', 'job_count', 'region']\n",
    "    state_stats = state_stats.reset_index()\n",
    "    \n",
    "    return state_stats\n",
    "\n",
    "# regional_stats = calculate_regional_stats(df)\n",
    "# state_stats = calculate_state_stats(df)\n",
    "\n",
    "# Display results\n",
    "# print(\"Regional Salary Statistics:\")\n",
    "# regional_stats.sort_values('mean_salary', ascending=False)"
   ]
  },
  {
   "cell_type": "markdown",
   "metadata": {},
   "source": [
    "## 5. Interactive US Choropleth Map (Plotly)\n",
    "\n",
    "This creates an interactive map showing salary by state"
   ]
  },
  {
   "cell_type": "code",
   "execution_count": null,
   "metadata": {},
   "source": [
    "def create_salary_choropleth(state_stats, metric='mean_salary'):\n",
    "    \"\"\"\n",
    "    Create interactive US map colored by salary\n",
    "    \n",
    "    Parameters:\n",
    "    -----------\n",
    "    state_stats : DataFrame with columns ['state', metric, 'job_count']\n",
    "    metric : str, which salary metric to visualize ('mean_salary', 'median_salary', etc.)\n",
    "    \"\"\"\n",
    "    \n",
    "    fig = px.choropleth(\n",
    "        state_stats,\n",
    "        locations='state',\n",
    "        locationmode='USA-states',\n",
    "        color=metric,\n",
    "        hover_name='state',\n",
    "        hover_data={\n",
    "            'state': False,\n",
    "            metric: ':$,.0f',\n",
    "            'job_count': ':,',\n",
    "            'region': True\n",
    "        },\n",
    "        color_continuous_scale='RdYlGn',\n",
    "        scope='usa',\n",
    "        title=f'Data Analyst Average Salary by State',\n",
    "        labels={metric: 'Avg Salary ($)'}\n",
    "    )\n",
    "    \n",
    "    fig.update_layout(\n",
    "        geo=dict(\n",
    "            showlakes=True,\n",
    "            lakecolor='rgb(255, 255, 255)'\n",
    "        ),\n",
    "        height=600,\n",
    "        title_font_size=20\n",
    "    )\n",
    "    \n",
    "    return fig\n",
    "\n",
    "# Create and display map\n",
    "# fig = create_salary_choropleth(state_stats)\n",
    "# fig.show()\n",
    "\n",
    "# Save to HTML for your portfolio\n",
    "# fig.write_html('salary_map_by_state.html')"
   ]
  },
  {
   "cell_type": "markdown",
   "metadata": {},
   "source": [
    "## 6. Regional Comparison Visualizations"
   ]
  },
  {
   "cell_type": "code",
   "execution_count": null,
   "metadata": {},
   "source": [
    "def create_regional_comparison(regional_stats):\n",
    "    \"\"\"\n",
    "    Create bar chart comparing regions\n",
    "    \"\"\"\n",
    "    fig = go.Figure()\n",
    "    \n",
    "    # Add bars for mean salary\n",
    "    fig.add_trace(go.Bar(\n",
    "        x=regional_stats['region'],\n",
    "        y=regional_stats['mean_salary'],\n",
    "        name='Mean Salary',\n",
    "        marker_color='lightblue',\n",
    "        text=regional_stats['mean_salary'].apply(lambda x: f'${x:,.0f}'),\n",
    "        textposition='outside'\n",
    "    ))\n",
    "    \n",
    "    # Add bars for median salary\n",
    "    fig.add_trace(go.Bar(\n",
    "        x=regional_stats['region'],\n",
    "        y=regional_stats['median_salary'],\n",
    "        name='Median Salary',\n",
    "        marker_color='coral',\n",
    "        text=regional_stats['median_salary'].apply(lambda x: f'${x:,.0f}'),\n",
    "        textposition='outside'\n",
    "    ))\n",
    "    \n",
    "    fig.update_layout(\n",
    "        title='Average Data Analyst Salary by US Region',\n",
    "        xaxis_title='Region',\n",
    "        yaxis_title='Salary ($)',\n",
    "        barmode='group',\n",
    "        height=500,\n",
    "        showlegend=True\n",
    "    )\n",
    "    \n",
    "    return fig\n",
    "\n",
    "# fig = create_regional_comparison(regional_stats)\n",
    "# fig.show()"
   ]
  },
  {
   "cell_type": "markdown",
   "metadata": {},
   "source": [
    "## 7. Box Plot: Salary Distribution by Region"
   ]
  },
  {
   "cell_type": "code",
   "execution_count": null,
   "metadata": {},
   "source": [
    "def create_salary_boxplot(df):\n",
    "    \"\"\"\n",
    "    Create box plot showing salary distributions by region\n",
    "    \"\"\"\n",
    "    fig = px.box(\n",
    "        df,\n",
    "        x='region',\n",
    "        y='salary_avg',\n",
    "        color='region',\n",
    "        title='Salary Distribution by US Region',\n",
    "        labels={'salary_avg': 'Salary ($)', 'region': 'Region'},\n",
    "        points='outliers'  # Show outliers\n",
    "    )\n",
    "    \n",
    "    fig.update_layout(\n",
    "        height=500,\n",
    "        showlegend=False\n",
    "    )\n",
    "    \n",
    "    return fig\n",
    "\n",
    "# fig = create_salary_boxplot(df)\n",
    "# fig.show()"
   ]
  },
  {
   "cell_type": "markdown",
   "metadata": {},
   "source": [
    "## 8. Top 10 States by Average Salary"
   ]
  },
  {
   "cell_type": "code",
   "execution_count": null,
   "metadata": {},
   "source": [
    "def create_top_states_chart(state_stats, top_n=10):\n",
    "    \"\"\"\n",
    "    Create horizontal bar chart of top paying states\n",
    "    \"\"\"\n",
    "    top_states = state_stats.nlargest(top_n, 'mean_salary')\n",
    "    \n",
    "    fig = go.Figure(go.Bar(\n",
    "        x=top_states['mean_salary'],\n",
    "        y=top_states['state'],\n",
    "        orientation='h',\n",
    "        marker=dict(\n",
    "            color=top_states['mean_salary'],\n",
    "            colorscale='Viridis',\n",
    "            showscale=True\n",
    "        ),\n",
    "        text=top_states['mean_salary'].apply(lambda x: f'${x:,.0f}'),\n",
    "        textposition='outside',\n",
    "        hovertemplate='<b>%{y}</b><br>Avg Salary: $%{x:,.0f}<br>Jobs: %{customdata}',\n",
    "        customdata=top_states['job_count']\n",
    "    ))\n",
    "    \n",
    "    fig.update_layout(\n",
    "        title=f'Top {top_n} States by Average Data Analyst Salary',\n",
    "        xaxis_title='Average Salary ($)',\n",
    "        yaxis_title='State',\n",
    "        height=500,\n",
    "        yaxis={'categoryorder': 'total ascending'}\n",
    "    )\n",
    "    \n",
    "    return fig\n",
    "\n",
    "# fig = create_top_states_chart(state_stats)\n",
    "# fig.show()"
   ]
  },
  {
   "cell_type": "markdown",
   "metadata": {},
   "source": [
    "## 9. Scatter Plot: Job Volume vs Average Salary by State"
   ]
  },
  {
   "cell_type": "code",
   "execution_count": null,
   "metadata": {},
   "source": [
    "def create_volume_vs_salary_scatter(state_stats):\n",
    "    \"\"\"\n",
    "    Shows relationship between job volume and average salary\n",
    "    Helps identify high-opportunity states\n",
    "    \"\"\"\n",
    "    fig = px.scatter(\n",
    "        state_stats,\n",
    "        x='job_count',\n",
    "        y='mean_salary',\n",
    "        size='job_count',\n",
    "        color='region',\n",
    "        hover_name='state',\n",
    "        hover_data={'job_count': ':,', 'mean_salary': ':$,.0f'},\n",
    "        title='Job Volume vs Average Salary by State',\n",
    "        labels={'job_count': 'Number of Jobs', 'mean_salary': 'Average Salary ($)'},\n",
    "        size_max=40\n",
    "    )\n",
    "    \n",
    "    fig.update_layout(\n",
    "        height=600,\n",
    "        showlegend=True\n",
    "    )\n",
    "    \n",
    "    return fig\n",
    "\n",
    "# fig = create_volume_vs_salary_scatter(state_stats)\n",
    "# fig.show()"
   ]
  },
  {
   "cell_type": "markdown",
   "metadata": {},
   "source": [
    "## 10. Statistical Summary Table"
   ]
  },
  {
   "cell_type": "code",
   "execution_count": null,
   "metadata": {},
   "source": [
    "def create_summary_table(regional_stats):\n",
    "    \"\"\"\n",
    "    Create formatted summary table\n",
    "    \"\"\"\n",
    "    summary = regional_stats.copy()\n",
    "    \n",
    "    # Format salary columns as currency\n",
    "    salary_cols = ['mean_salary', 'median_salary', 'min_salary', 'max_salary']\n",
    "    for col in salary_cols:\n",
    "        summary[col] = summary[col].apply(lambda x: f'${x:,.0f}')\n",
    "    \n",
    "    summary['job_count'] = summary['job_count'].apply(lambda x: f'{x:,}')\n",
    "    \n",
    "    return summary\n",
    "\n",
    "# summary_table = create_summary_table(regional_stats)\n",
    "# summary_table"
   ]
  },
  {
   "cell_type": "markdown",
   "metadata": {},
   "source": [
    "## 11. Experience Level Analysis by Region\n",
    "\n",
    "If your data includes experience levels, analyze how they vary by region"
   ]
  },
  {
   "cell_type": "code",
   "execution_count": null,
   "metadata": {},
   "source": [
    "def analyze_experience_by_region(df):\n",
    "    \"\"\"\n",
    "    Compare salaries across experience levels by region\n",
    "    \"\"\"\n",
    "    # Group by region and experience level\n",
    "    exp_analysis = df.groupby(['region', 'experience_level']).agg({\n",
    "        'salary_avg': 'mean',\n",
    "        'job_title': 'count'\n",
    "    }).round(0)\n",
    "    \n",
    "    exp_analysis.columns = ['mean_salary', 'job_count']\n",
    "    exp_analysis = exp_analysis.reset_index()\n",
    "    \n",
    "    # Create grouped bar chart\n",
    "    fig = px.bar(\n",
    "        exp_analysis,\n",
    "        x='region',\n",
    "        y='mean_salary',\n",
    "        color='experience_level',\n",
    "        barmode='group',\n",
    "        title='Average Salary by Experience Level and Region',\n",
    "        labels={'mean_salary': 'Average Salary ($)', 'region': 'Region'},\n",
    "        text='mean_salary'\n",
    "    )\n",
    "    \n",
    "    fig.update_traces(texttemplate='$%{text:,.0f}', textposition='outside')\n",
    "    fig.update_layout(height=500)\n",
    "    \n",
    "    return fig, exp_analysis\n",
    "\n",
    "# If you have experience_level column:\n",
    "# fig, exp_data = analyze_experience_by_region(df)\n",
    "# fig.show()"
   ]
  },
  {
   "cell_type": "markdown",
   "metadata": {},
   "source": [
    "## 12. Key Insights and Recommendations\n",
    "\n",
    "Based on the visualizations above, document your findings:"
   ]
  },
  {
   "cell_type": "markdown",
   "metadata": {},
   "source": [
    "### Geographic Findings:\n",
    "\n",
    "1. **Highest Paying Regions:**\n",
    "   - [List top regions with specific numbers]\n",
    "   \n",
    "2. **Job Volume Leaders:**\n",
    "   - [States/regions with most opportunities]\n",
    "   \n",
    "3. **Best Value Markets:**\n",
    "   - [High salary + high job volume = best opportunity]\n",
    "   \n",
    "4. **Experience Level Variations:**\n",
    "   - [How entry vs senior salaries differ by region]\n",
    "   \n",
    "5. **Remote Work Impact:**\n",
    "   - [If you have remote data, compare remote vs onsite by region]"
   ]
  },
  {
   "cell_type": "markdown",
   "metadata": {},
   "source": [
    "## 13. Export Results\n",
    "\n",
    "Save your findings for your portfolio"
   ]
  },
  {
   "cell_type": "code",
   "execution_count": null,
   "metadata": {},
   "source": [
    "# Save summary statistics to CSV\n",
    "# regional_stats.to_csv('regional_salary_summary.csv', index=False)\n",
    "# state_stats.to_csv('state_salary_summary.csv', index=False)\n",
    "\n",
    "# Save key visualizations as HTML (interactive)\n",
    "# salary_map.write_html('outputs/salary_choropleth_map.html')\n",
    "# regional_comparison.write_html('outputs/regional_comparison.html')\n",
    "\n",
    "# Or save as static images (PNG)\n",
    "# salary_map.write_image('outputs/salary_map.png', width=1200, height=800)\n",
    "\n",
    "print(\"Analysis complete! Files saved to outputs/\")"
   ]
  },
  {
   "cell_type": "markdown",
   "metadata": {},
   "source": [
    "---\n",
    "\n",
    "## Next Steps:\n",
    "\n",
    "1. **Skills Analysis**: Analyze which skills command highest salaries by region\n",
    "2. **Remote vs Onsite**: Compare salary differences for remote work\n",
    "3. **Time Trends**: If you have dates, show how market changed over time\n",
    "4. **Company Size Analysis**: Startup vs Enterprise salary differences\n",
    "\n",
    "---\n",
    "\n",
    "*Created for the Data Analyst Job Market Analysis project*"
   ]
  }
 ],
 "metadata": {
  "kernelspec": {
   "display_name": "Python 3",
   "language": "python",
   "name": "python3"
  },
  "language_info": {
   "codemirror_mode": {
    "name": "ipython",
    "version": 3
   },
   "file_extension": ".py",
   "mimetype": "text/x-python",
   "name": "python",
   "nbconvert_exporter": "python",
   "pygments_lexer": "ipython3",
   "version": "3.9.0"
  }
 },
 "nbformat": 4,
 "nbformat_minor": 4
}
